{
  "nbformat": 4,
  "nbformat_minor": 0,
  "metadata": {
    "colab": {
      "provenance": [],
      "authorship_tag": "ABX9TyNaXPaZJU9hAB0ZHM5AFtTB",
      "include_colab_link": true
    },
    "kernelspec": {
      "name": "python3",
      "display_name": "Python 3"
    },
    "language_info": {
      "name": "python"
    }
  },
  "cells": [
    {
      "cell_type": "markdown",
      "metadata": {
        "id": "view-in-github",
        "colab_type": "text"
      },
      "source": [
        "<a href=\"https://colab.research.google.com/github/aihubgrw/Talha-Malik-s-Repo/blob/main/Project_3_by_Talha_Younus.ipynb\" target=\"_parent\"><img src=\"https://colab.research.google.com/assets/colab-badge.svg\" alt=\"Open In Colab\"/></a>"
      ]
    },
    {
      "cell_type": "markdown",
      "source": [
        "**Assignment**"
      ],
      "metadata": {
        "id": "1EOOAhH2ddeP"
      }
    },
    {
      "cell_type": "code",
      "source": [
        "student_id = 101\n",
        "grades = [85, 90, 92]\n",
        "\n",
        "print(\"student_id:\", student_id, \"| Type:\", type(student_id))\n",
        "print(\"grades:\", grades, \"| Type:\", type(grades))"
      ],
      "metadata": {
        "id": "J8WP7OPpa-2O",
        "colab": {
          "base_uri": "https://localhost:8080/"
        },
        "outputId": "cb9bedb4-0335-49ac-dcb8-acbabfbca1bc"
      },
      "execution_count": 1,
      "outputs": [
        {
          "output_type": "stream",
          "name": "stdout",
          "text": [
            "student_id: 101 | Type: <class 'int'>\n",
            "grades: [85, 90, 92] | Type: <class 'list'>\n"
          ]
        }
      ]
    },
    {
      "cell_type": "code",
      "source": [
        "price = 19.99\n",
        "dimensions = (5.5, 3.2)\n",
        "\n",
        "print(\"price:\", price, \"| Type:\", type(price))\n",
        "print(\"dimensions:\", dimensions, \"| Type:\", type(dimensions))"
      ],
      "metadata": {
        "colab": {
          "base_uri": "https://localhost:8080/"
        },
        "id": "QCtIaUUYcVvj",
        "outputId": "d742fd65-ba73-4e69-a671-d2f7129636a7"
      },
      "execution_count": 12,
      "outputs": [
        {
          "output_type": "stream",
          "name": "stdout",
          "text": [
            "price: 19.99 | Type: <class 'float'>\n",
            "dimensions: (5.5, 3.2) | Type: <class 'tuple'>\n"
          ]
        }
      ]
    },
    {
      "cell_type": "code",
      "source": [
        "complex_value = 2 + 3j\n",
        "numbers = range(1, 5)\n",
        "\n",
        "print(\"complex_value:\", complex_value, \"| Type:\", type(complex_value))\n",
        "print(\"numbers:\", list(numbers), \"| Type:\", type(numbers))"
      ],
      "metadata": {
        "colab": {
          "base_uri": "https://localhost:8080/"
        },
        "id": "o0OvA3vDcV_j",
        "outputId": "5951bed2-1ff6-463e-a3ab-32d8b4605b44"
      },
      "execution_count": 11,
      "outputs": [
        {
          "output_type": "stream",
          "name": "stdout",
          "text": [
            "complex_value: (2+3j) | Type: <class 'complex'>\n",
            "numbers: [1, 2, 3, 4] | Type: <class 'range'>\n"
          ]
        }
      ]
    },
    {
      "cell_type": "code",
      "source": [
        "is_active = True\n",
        "unique_ids = {1, 2, 3}\n",
        "\n",
        "print(\"is_active:\", is_active, \"| Type:\", type(is_active))\n",
        "print(\"unique_ids:\", unique_ids, \"| Type:\", type(unique_ids))"
      ],
      "metadata": {
        "colab": {
          "base_uri": "https://localhost:8080/"
        },
        "id": "2-TP-nM0cWND",
        "outputId": "4f5ab9df-4410-4b6b-effd-58b4e25d048a"
      },
      "execution_count": 13,
      "outputs": [
        {
          "output_type": "stream",
          "name": "stdout",
          "text": [
            "is_active: True | Type: <class 'bool'>\n",
            "unique_ids: {1, 2, 3} | Type: <class 'set'>\n"
          ]
        }
      ]
    },
    {
      "cell_type": "code",
      "source": [
        "status = 'Active'\n",
        "fixed_colors = frozenset([\"red\", \"blue\"])\n",
        "\n",
        "print(\"status:\", status, \"| Type:\", type(status))\n",
        "print(\"fixed_colors:\", fixed_colors, \"| Type:\", type(fixed_colors))"
      ],
      "metadata": {
        "colab": {
          "base_uri": "https://localhost:8080/"
        },
        "id": "m3oEq_ebcWU_",
        "outputId": "79583447-c50e-4f8e-d2c6-93a5ad2eed72"
      },
      "execution_count": 14,
      "outputs": [
        {
          "output_type": "stream",
          "name": "stdout",
          "text": [
            "status: Active | Type: <class 'str'>\n",
            "fixed_colors: frozenset({'red', 'blue'}) | Type: <class 'frozenset'>\n"
          ]
        }
      ]
    },
    {
      "cell_type": "code",
      "source": [
        "country = \"Canada\"\n",
        "cities = [\"Toronto\", \"Vancouver\"]\n",
        "\n",
        "print(\"country:\", country, \"| Type:\", type(country))\n",
        "print(\"cities:\", cities, \"| Type:\", type(cities))"
      ],
      "metadata": {
        "colab": {
          "base_uri": "https://localhost:8080/"
        },
        "id": "m0dSq0lmcWcb",
        "outputId": "ffc2fd3e-d3e6-431f-c020-6cb21fba1612"
      },
      "execution_count": 15,
      "outputs": [
        {
          "output_type": "stream",
          "name": "stdout",
          "text": [
            "country: Canada | Type: <class 'str'>\n",
            "cities: ['Toronto', 'Vancouver'] | Type: <class 'list'>\n"
          ]
        }
      ]
    },
    {
      "cell_type": "code",
      "source": [
        "motto = '''Keep it simple'''\n",
        "coordinates = (10, 20, 30)\n",
        "\n",
        "print(\"motto:\", motto, \"| Type:\", type(motto))\n",
        "print(\"coordinates:\", coordinates, \"| Type:\", type(coordinates))"
      ],
      "metadata": {
        "colab": {
          "base_uri": "https://localhost:8080/"
        },
        "id": "6MTrwKgGcWjW",
        "outputId": "3e58e0d1-c7f0-48bb-9ff0-61fd5638b829"
      },
      "execution_count": 16,
      "outputs": [
        {
          "output_type": "stream",
          "name": "stdout",
          "text": [
            "motto: Keep it simple | Type: <class 'str'>\n",
            "coordinates: (10, 20, 30) | Type: <class 'tuple'>\n"
          ]
        }
      ]
    },
    {
      "cell_type": "code",
      "source": [
        "quantity = 50\n",
        "tags = {\"urgent\", \"new\"}\n",
        "\n",
        "print(\"quantity:\", quantity, \"| Type:\", type(quantity))\n",
        "print(\"tags:\", tags, \"| Type:\", type(tags))"
      ],
      "metadata": {
        "colab": {
          "base_uri": "https://localhost:8080/"
        },
        "id": "a8LLe0aecWph",
        "outputId": "efc27c9a-edd8-4daf-ea37-98e81c8977bd"
      },
      "execution_count": 17,
      "outputs": [
        {
          "output_type": "stream",
          "name": "stdout",
          "text": [
            "quantity: 50 | Type: <class 'int'>\n",
            "tags: {'new', 'urgent'} | Type: <class 'set'>\n"
          ]
        }
      ]
    },
    {
      "cell_type": "code",
      "source": [
        "distance = 42.5\n",
        "steps = range(0, 10, 2)\n",
        "\n",
        "print(\"distance:\", distance, \"| Type:\", type(distance))\n",
        "print(\"steps:\", list(steps), \"| Type:\", type(steps))"
      ],
      "metadata": {
        "colab": {
          "base_uri": "https://localhost:8080/"
        },
        "id": "MlrEBPxgcWzJ",
        "outputId": "3edf9c5c-2ded-42f9-945a-9c292dbba9c2"
      },
      "execution_count": 18,
      "outputs": [
        {
          "output_type": "stream",
          "name": "stdout",
          "text": [
            "distance: 42.5 | Type: <class 'float'>\n",
            "steps: [0, 2, 4, 6, 8] | Type: <class 'range'>\n"
          ]
        }
      ]
    },
    {
      "cell_type": "code",
      "source": [
        "note = \"\"\"Meeting at 9 AM\n",
        "Bring notebook\"\"\"\n",
        "locked_values = frozenset([100, 200, 300])\n",
        "\n",
        "print(\"نوٹ\", note, \"| Type:\", type(note))\n",
        "print(\"locked_values:\", locked_values, \"| Type:\", type(locked_values))"
      ],
      "metadata": {
        "colab": {
          "base_uri": "https://localhost:8080/"
        },
        "id": "j0pxHRAhcW9y",
        "outputId": "32e69782-b05b-4a9a-d722-21855753ad02"
      },
      "execution_count": 22,
      "outputs": [
        {
          "output_type": "stream",
          "name": "stdout",
          "text": [
            "نوٹ Meeting at 9 AM\n",
            "Bring notebook | Type: <class 'str'>\n",
            "locked_values: frozenset({200, 100, 300}) | Type: <class 'frozenset'>\n"
          ]
        }
      ]
    }
  ]
}